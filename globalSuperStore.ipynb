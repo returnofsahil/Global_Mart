{
 "cells": [
  {
   "attachments": {},
   "cell_type": "markdown",
   "metadata": {},
   "source": [
    "### Importing the neccesary modules \n"
   ]
  },
  {
   "cell_type": "code",
   "execution_count": 60,
   "metadata": {},
   "outputs": [],
   "source": [
    "import pandas as pd\n",
    "import numpy as np\n",
    "import seaborn as sns\n",
    "import matplotlib.pyplot as plt"
   ]
  },
  {
   "cell_type": "code",
   "execution_count": 61,
   "metadata": {},
   "outputs": [],
   "source": [
    "df = pd.read_csv('./Global+Superstore+Data.csv')"
   ]
  },
  {
   "cell_type": "code",
   "execution_count": 62,
   "metadata": {},
   "outputs": [
    {
     "data": {
      "text/html": [
       "<div>\n",
       "<style scoped>\n",
       "    .dataframe tbody tr th:only-of-type {\n",
       "        vertical-align: middle;\n",
       "    }\n",
       "\n",
       "    .dataframe tbody tr th {\n",
       "        vertical-align: top;\n",
       "    }\n",
       "\n",
       "    .dataframe thead th {\n",
       "        text-align: right;\n",
       "    }\n",
       "</style>\n",
       "<table border=\"1\" class=\"dataframe\">\n",
       "  <thead>\n",
       "    <tr style=\"text-align: right;\">\n",
       "      <th></th>\n",
       "      <th>Order Date</th>\n",
       "      <th>Segment</th>\n",
       "      <th>Market</th>\n",
       "      <th>Sales</th>\n",
       "      <th>Profit</th>\n",
       "    </tr>\n",
       "  </thead>\n",
       "  <tbody>\n",
       "    <tr>\n",
       "      <th>0</th>\n",
       "      <td>31-07-2012</td>\n",
       "      <td>Consumer</td>\n",
       "      <td>US</td>\n",
       "      <td>2309.650</td>\n",
       "      <td>762.1845</td>\n",
       "    </tr>\n",
       "    <tr>\n",
       "      <th>1</th>\n",
       "      <td>05-02-2013</td>\n",
       "      <td>Corporate</td>\n",
       "      <td>APAC</td>\n",
       "      <td>3709.395</td>\n",
       "      <td>-288.7650</td>\n",
       "    </tr>\n",
       "    <tr>\n",
       "      <th>2</th>\n",
       "      <td>17-10-2013</td>\n",
       "      <td>Consumer</td>\n",
       "      <td>APAC</td>\n",
       "      <td>5175.171</td>\n",
       "      <td>919.9710</td>\n",
       "    </tr>\n",
       "    <tr>\n",
       "      <th>3</th>\n",
       "      <td>28-01-2013</td>\n",
       "      <td>Home Office</td>\n",
       "      <td>EU</td>\n",
       "      <td>2892.510</td>\n",
       "      <td>-96.5400</td>\n",
       "    </tr>\n",
       "    <tr>\n",
       "      <th>4</th>\n",
       "      <td>05-11-2013</td>\n",
       "      <td>Consumer</td>\n",
       "      <td>Africa</td>\n",
       "      <td>2832.960</td>\n",
       "      <td>311.5200</td>\n",
       "    </tr>\n",
       "  </tbody>\n",
       "</table>\n",
       "</div>"
      ],
      "text/plain": [
       "   Order Date      Segment  Market     Sales    Profit\n",
       "0  31-07-2012     Consumer      US  2309.650  762.1845\n",
       "1  05-02-2013    Corporate    APAC  3709.395 -288.7650\n",
       "2  17-10-2013     Consumer    APAC  5175.171  919.9710\n",
       "3  28-01-2013  Home Office      EU  2892.510  -96.5400\n",
       "4  05-11-2013     Consumer  Africa  2832.960  311.5200"
      ]
     },
     "execution_count": 62,
     "metadata": {},
     "output_type": "execute_result"
    }
   ],
   "source": [
    "df.head()"
   ]
  },
  {
   "attachments": {},
   "cell_type": "markdown",
   "metadata": {},
   "source": [
    "### Understanding the data"
   ]
  },
  {
   "cell_type": "code",
   "execution_count": 63,
   "metadata": {},
   "outputs": [
    {
     "name": "stdout",
     "output_type": "stream",
     "text": [
      "<class 'pandas.core.frame.DataFrame'>\n",
      "RangeIndex: 51290 entries, 0 to 51289\n",
      "Data columns (total 5 columns):\n",
      " #   Column      Non-Null Count  Dtype  \n",
      "---  ------      --------------  -----  \n",
      " 0   Order Date  51290 non-null  object \n",
      " 1   Segment     51290 non-null  object \n",
      " 2   Market      51290 non-null  object \n",
      " 3   Sales       51290 non-null  float64\n",
      " 4   Profit      51290 non-null  float64\n",
      "dtypes: float64(2), object(3)\n",
      "memory usage: 2.0+ MB\n"
     ]
    }
   ],
   "source": [
    "df.info()"
   ]
  },
  {
   "cell_type": "code",
   "execution_count": 64,
   "metadata": {},
   "outputs": [
    {
     "data": {
      "text/plain": [
       "Order Date    0\n",
       "Segment       0\n",
       "Market        0\n",
       "Sales         0\n",
       "Profit        0\n",
       "dtype: int64"
      ]
     },
     "execution_count": 64,
     "metadata": {},
     "output_type": "execute_result"
    }
   ],
   "source": [
    "df.isnull().sum()\n",
    "# Soo no null values data is already cleaned"
   ]
  },
  {
   "cell_type": "code",
   "execution_count": 65,
   "metadata": {},
   "outputs": [
    {
     "data": {
      "text/html": [
       "<div>\n",
       "<style scoped>\n",
       "    .dataframe tbody tr th:only-of-type {\n",
       "        vertical-align: middle;\n",
       "    }\n",
       "\n",
       "    .dataframe tbody tr th {\n",
       "        vertical-align: top;\n",
       "    }\n",
       "\n",
       "    .dataframe thead th {\n",
       "        text-align: right;\n",
       "    }\n",
       "</style>\n",
       "<table border=\"1\" class=\"dataframe\">\n",
       "  <thead>\n",
       "    <tr style=\"text-align: right;\">\n",
       "      <th></th>\n",
       "      <th>Sales</th>\n",
       "      <th>Profit</th>\n",
       "    </tr>\n",
       "  </thead>\n",
       "  <tbody>\n",
       "    <tr>\n",
       "      <th>count</th>\n",
       "      <td>51290.000000</td>\n",
       "      <td>51290.000000</td>\n",
       "    </tr>\n",
       "    <tr>\n",
       "      <th>mean</th>\n",
       "      <td>246.490581</td>\n",
       "      <td>28.610982</td>\n",
       "    </tr>\n",
       "    <tr>\n",
       "      <th>std</th>\n",
       "      <td>487.565361</td>\n",
       "      <td>174.340972</td>\n",
       "    </tr>\n",
       "    <tr>\n",
       "      <th>min</th>\n",
       "      <td>0.444000</td>\n",
       "      <td>-6599.978000</td>\n",
       "    </tr>\n",
       "    <tr>\n",
       "      <th>25%</th>\n",
       "      <td>30.758625</td>\n",
       "      <td>0.000000</td>\n",
       "    </tr>\n",
       "    <tr>\n",
       "      <th>50%</th>\n",
       "      <td>85.053000</td>\n",
       "      <td>9.240000</td>\n",
       "    </tr>\n",
       "    <tr>\n",
       "      <th>75%</th>\n",
       "      <td>251.053200</td>\n",
       "      <td>36.810000</td>\n",
       "    </tr>\n",
       "    <tr>\n",
       "      <th>max</th>\n",
       "      <td>22638.480000</td>\n",
       "      <td>8399.976000</td>\n",
       "    </tr>\n",
       "  </tbody>\n",
       "</table>\n",
       "</div>"
      ],
      "text/plain": [
       "              Sales        Profit\n",
       "count  51290.000000  51290.000000\n",
       "mean     246.490581     28.610982\n",
       "std      487.565361    174.340972\n",
       "min        0.444000  -6599.978000\n",
       "25%       30.758625      0.000000\n",
       "50%       85.053000      9.240000\n",
       "75%      251.053200     36.810000\n",
       "max    22638.480000   8399.976000"
      ]
     },
     "execution_count": 65,
     "metadata": {},
     "output_type": "execute_result"
    }
   ],
   "source": [
    "df.describe()"
   ]
  },
  {
   "cell_type": "code",
   "execution_count": 66,
   "metadata": {},
   "outputs": [
    {
     "data": {
      "text/plain": [
       "array(['US', 'APAC', 'EU', 'Africa', 'EMEA', 'LATAM', 'Canada'],\n",
       "      dtype=object)"
      ]
     },
     "execution_count": 66,
     "metadata": {},
     "output_type": "execute_result"
    }
   ],
   "source": [
    "# Different market and customer segments\n",
    "df['Market'].unique()\n",
    "\n",
    "#  7 places = 'US' , 'APAC', 'EU', 'Africa', 'EMEA', 'LATAM', 'Canada'"
   ]
  },
  {
   "cell_type": "code",
   "execution_count": 67,
   "metadata": {},
   "outputs": [
    {
     "data": {
      "text/plain": [
       "array(['Consumer', 'Corporate', 'Home Office'], dtype=object)"
      ]
     },
     "execution_count": 67,
     "metadata": {},
     "output_type": "execute_result"
    }
   ],
   "source": [
    "df['Segment'].unique()\n",
    "\n",
    "# 3  segements = ['Consumer', 'Corporate', 'Home Office']\n",
    "# In total 21 unique segements"
   ]
  },
  {
   "attachments": {},
   "cell_type": "markdown",
   "metadata": {},
   "source": [
    "### Finding out the most profitable market segement"
   ]
  },
  {
   "cell_type": "code",
   "execution_count": 68,
   "metadata": {},
   "outputs": [],
   "source": [
    "df['combinedMarketSegment'] = df['Market'] + '-' + df['Segment']"
   ]
  },
  {
   "cell_type": "code",
   "execution_count": 69,
   "metadata": {},
   "outputs": [
    {
     "data": {
      "text/html": [
       "<div>\n",
       "<style scoped>\n",
       "    .dataframe tbody tr th:only-of-type {\n",
       "        vertical-align: middle;\n",
       "    }\n",
       "\n",
       "    .dataframe tbody tr th {\n",
       "        vertical-align: top;\n",
       "    }\n",
       "\n",
       "    .dataframe thead th {\n",
       "        text-align: right;\n",
       "    }\n",
       "</style>\n",
       "<table border=\"1\" class=\"dataframe\">\n",
       "  <thead>\n",
       "    <tr style=\"text-align: right;\">\n",
       "      <th></th>\n",
       "      <th>Order Date</th>\n",
       "      <th>Segment</th>\n",
       "      <th>Market</th>\n",
       "      <th>Sales</th>\n",
       "      <th>Profit</th>\n",
       "      <th>combinedMarketSegment</th>\n",
       "    </tr>\n",
       "  </thead>\n",
       "  <tbody>\n",
       "    <tr>\n",
       "      <th>0</th>\n",
       "      <td>31-07-2012</td>\n",
       "      <td>Consumer</td>\n",
       "      <td>US</td>\n",
       "      <td>2309.650</td>\n",
       "      <td>762.1845</td>\n",
       "      <td>US-Consumer</td>\n",
       "    </tr>\n",
       "    <tr>\n",
       "      <th>1</th>\n",
       "      <td>05-02-2013</td>\n",
       "      <td>Corporate</td>\n",
       "      <td>APAC</td>\n",
       "      <td>3709.395</td>\n",
       "      <td>-288.7650</td>\n",
       "      <td>APAC-Corporate</td>\n",
       "    </tr>\n",
       "    <tr>\n",
       "      <th>2</th>\n",
       "      <td>17-10-2013</td>\n",
       "      <td>Consumer</td>\n",
       "      <td>APAC</td>\n",
       "      <td>5175.171</td>\n",
       "      <td>919.9710</td>\n",
       "      <td>APAC-Consumer</td>\n",
       "    </tr>\n",
       "    <tr>\n",
       "      <th>3</th>\n",
       "      <td>28-01-2013</td>\n",
       "      <td>Home Office</td>\n",
       "      <td>EU</td>\n",
       "      <td>2892.510</td>\n",
       "      <td>-96.5400</td>\n",
       "      <td>EU-Home Office</td>\n",
       "    </tr>\n",
       "    <tr>\n",
       "      <th>4</th>\n",
       "      <td>05-11-2013</td>\n",
       "      <td>Consumer</td>\n",
       "      <td>Africa</td>\n",
       "      <td>2832.960</td>\n",
       "      <td>311.5200</td>\n",
       "      <td>Africa-Consumer</td>\n",
       "    </tr>\n",
       "  </tbody>\n",
       "</table>\n",
       "</div>"
      ],
      "text/plain": [
       "   Order Date      Segment  Market     Sales    Profit combinedMarketSegment\n",
       "0  31-07-2012     Consumer      US  2309.650  762.1845           US-Consumer\n",
       "1  05-02-2013    Corporate    APAC  3709.395 -288.7650        APAC-Corporate\n",
       "2  17-10-2013     Consumer    APAC  5175.171  919.9710         APAC-Consumer\n",
       "3  28-01-2013  Home Office      EU  2892.510  -96.5400        EU-Home Office\n",
       "4  05-11-2013     Consumer  Africa  2832.960  311.5200       Africa-Consumer"
      ]
     },
     "execution_count": 69,
     "metadata": {},
     "output_type": "execute_result"
    }
   ],
   "source": [
    "df.head()\n",
    "# cross checking"
   ]
  },
  {
   "cell_type": "code",
   "execution_count": 70,
   "metadata": {},
   "outputs": [
    {
     "name": "stderr",
     "output_type": "stream",
     "text": [
      "C:\\Users\\SAM\\AppData\\Local\\Temp\\ipykernel_19768\\3464277095.py:3: UserWarning: Parsing dates in DD/MM/YYYY format when dayfirst=False (the default) was specified. This may lead to inconsistently parsed dates! Specify a format to ensure consistent parsing.\n",
      "  df['Order Date'] = pd.to_datetime(df['Order Date']).dt.to_period('m')\n"
     ]
    }
   ],
   "source": [
    "# next converting the dataset\n",
    "# converting the date into the required format\n",
    "df['Order Date'] = pd.to_datetime(df['Order Date']).dt.to_period('m')\n",
    "# to_period m convert to month"
   ]
  },
  {
   "cell_type": "code",
   "execution_count": 71,
   "metadata": {},
   "outputs": [],
   "source": [
    "df_agg = df.pivot_table(index='Order Date', values='Profit',columns='combinedMarketSegment',aggfunc='sum')\n",
    "# as we are only concerned with the profit"
   ]
  },
  {
   "cell_type": "code",
   "execution_count": 72,
   "metadata": {},
   "outputs": [
    {
     "data": {
      "text/html": [
       "<div>\n",
       "<style scoped>\n",
       "    .dataframe tbody tr th:only-of-type {\n",
       "        vertical-align: middle;\n",
       "    }\n",
       "\n",
       "    .dataframe tbody tr th {\n",
       "        vertical-align: top;\n",
       "    }\n",
       "\n",
       "    .dataframe thead th {\n",
       "        text-align: right;\n",
       "    }\n",
       "</style>\n",
       "<table border=\"1\" class=\"dataframe\">\n",
       "  <thead>\n",
       "    <tr style=\"text-align: right;\">\n",
       "      <th>combinedMarketSegment</th>\n",
       "      <th>APAC-Consumer</th>\n",
       "      <th>APAC-Corporate</th>\n",
       "      <th>APAC-Home Office</th>\n",
       "      <th>Africa-Consumer</th>\n",
       "      <th>Africa-Corporate</th>\n",
       "      <th>Africa-Home Office</th>\n",
       "      <th>Canada-Consumer</th>\n",
       "      <th>Canada-Corporate</th>\n",
       "      <th>Canada-Home Office</th>\n",
       "      <th>EMEA-Consumer</th>\n",
       "      <th>...</th>\n",
       "      <th>EMEA-Home Office</th>\n",
       "      <th>EU-Consumer</th>\n",
       "      <th>EU-Corporate</th>\n",
       "      <th>EU-Home Office</th>\n",
       "      <th>LATAM-Consumer</th>\n",
       "      <th>LATAM-Corporate</th>\n",
       "      <th>LATAM-Home Office</th>\n",
       "      <th>US-Consumer</th>\n",
       "      <th>US-Corporate</th>\n",
       "      <th>US-Home Office</th>\n",
       "    </tr>\n",
       "    <tr>\n",
       "      <th>Order Date</th>\n",
       "      <th></th>\n",
       "      <th></th>\n",
       "      <th></th>\n",
       "      <th></th>\n",
       "      <th></th>\n",
       "      <th></th>\n",
       "      <th></th>\n",
       "      <th></th>\n",
       "      <th></th>\n",
       "      <th></th>\n",
       "      <th></th>\n",
       "      <th></th>\n",
       "      <th></th>\n",
       "      <th></th>\n",
       "      <th></th>\n",
       "      <th></th>\n",
       "      <th></th>\n",
       "      <th></th>\n",
       "      <th></th>\n",
       "      <th></th>\n",
       "      <th></th>\n",
       "    </tr>\n",
       "  </thead>\n",
       "  <tbody>\n",
       "    <tr>\n",
       "      <th>2011-01</th>\n",
       "      <td>2254.4898</td>\n",
       "      <td>-173.7264</td>\n",
       "      <td>230.2656</td>\n",
       "      <td>265.539</td>\n",
       "      <td>520.026</td>\n",
       "      <td>391.515</td>\n",
       "      <td>447.33</td>\n",
       "      <td>12.57</td>\n",
       "      <td>NaN</td>\n",
       "      <td>-2952.594</td>\n",
       "      <td>...</td>\n",
       "      <td>392.526</td>\n",
       "      <td>2259.8670</td>\n",
       "      <td>841.3875</td>\n",
       "      <td>2534.568</td>\n",
       "      <td>540.44312</td>\n",
       "      <td>1021.05924</td>\n",
       "      <td>-26.59744</td>\n",
       "      <td>2465.8368</td>\n",
       "      <td>643.3689</td>\n",
       "      <td>1233.9329</td>\n",
       "    </tr>\n",
       "    <tr>\n",
       "      <th>2011-02</th>\n",
       "      <td>4627.8531</td>\n",
       "      <td>3600.7776</td>\n",
       "      <td>617.5407</td>\n",
       "      <td>-201.888</td>\n",
       "      <td>-31.689</td>\n",
       "      <td>825.606</td>\n",
       "      <td>26.43</td>\n",
       "      <td>9.24</td>\n",
       "      <td>87.99</td>\n",
       "      <td>464.160</td>\n",
       "      <td>...</td>\n",
       "      <td>368.070</td>\n",
       "      <td>-783.9945</td>\n",
       "      <td>2234.4060</td>\n",
       "      <td>162.255</td>\n",
       "      <td>1227.86616</td>\n",
       "      <td>814.03020</td>\n",
       "      <td>-356.80440</td>\n",
       "      <td>1853.5541</td>\n",
       "      <td>421.9256</td>\n",
       "      <td>553.9467</td>\n",
       "    </tr>\n",
       "    <tr>\n",
       "      <th>2011-03</th>\n",
       "      <td>2337.8319</td>\n",
       "      <td>3634.9365</td>\n",
       "      <td>205.1052</td>\n",
       "      <td>919.074</td>\n",
       "      <td>244.437</td>\n",
       "      <td>83.430</td>\n",
       "      <td>82.47</td>\n",
       "      <td>NaN</td>\n",
       "      <td>84.03</td>\n",
       "      <td>706.380</td>\n",
       "      <td>...</td>\n",
       "      <td>-15.570</td>\n",
       "      <td>1273.7100</td>\n",
       "      <td>2206.5960</td>\n",
       "      <td>269.745</td>\n",
       "      <td>2427.39612</td>\n",
       "      <td>178.66400</td>\n",
       "      <td>769.88400</td>\n",
       "      <td>204.2007</td>\n",
       "      <td>127.4696</td>\n",
       "      <td>-268.9314</td>\n",
       "    </tr>\n",
       "    <tr>\n",
       "      <th>2011-04</th>\n",
       "      <td>633.6423</td>\n",
       "      <td>90.7521</td>\n",
       "      <td>603.8478</td>\n",
       "      <td>381.315</td>\n",
       "      <td>941.751</td>\n",
       "      <td>417.618</td>\n",
       "      <td>55.08</td>\n",
       "      <td>6.51</td>\n",
       "      <td>NaN</td>\n",
       "      <td>121.353</td>\n",
       "      <td>...</td>\n",
       "      <td>-456.510</td>\n",
       "      <td>2980.0065</td>\n",
       "      <td>981.1470</td>\n",
       "      <td>130.371</td>\n",
       "      <td>1368.82948</td>\n",
       "      <td>872.64068</td>\n",
       "      <td>-554.22952</td>\n",
       "      <td>1434.8636</td>\n",
       "      <td>494.7315</td>\n",
       "      <td>2723.4358</td>\n",
       "    </tr>\n",
       "    <tr>\n",
       "      <th>2011-05</th>\n",
       "      <td>3838.9500</td>\n",
       "      <td>1028.4489</td>\n",
       "      <td>102.0315</td>\n",
       "      <td>-39.981</td>\n",
       "      <td>490.650</td>\n",
       "      <td>39.180</td>\n",
       "      <td>0.87</td>\n",
       "      <td>NaN</td>\n",
       "      <td>NaN</td>\n",
       "      <td>172.554</td>\n",
       "      <td>...</td>\n",
       "      <td>-33.591</td>\n",
       "      <td>673.0080</td>\n",
       "      <td>1719.0600</td>\n",
       "      <td>443.310</td>\n",
       "      <td>1749.39200</td>\n",
       "      <td>134.87252</td>\n",
       "      <td>-397.95600</td>\n",
       "      <td>833.9433</td>\n",
       "      <td>2912.7976</td>\n",
       "      <td>145.7781</td>\n",
       "    </tr>\n",
       "  </tbody>\n",
       "</table>\n",
       "<p>5 rows × 21 columns</p>\n",
       "</div>"
      ],
      "text/plain": [
       "combinedMarketSegment  APAC-Consumer  APAC-Corporate  APAC-Home Office  \\\n",
       "Order Date                                                               \n",
       "2011-01                    2254.4898       -173.7264          230.2656   \n",
       "2011-02                    4627.8531       3600.7776          617.5407   \n",
       "2011-03                    2337.8319       3634.9365          205.1052   \n",
       "2011-04                     633.6423         90.7521          603.8478   \n",
       "2011-05                    3838.9500       1028.4489          102.0315   \n",
       "\n",
       "combinedMarketSegment  Africa-Consumer  Africa-Corporate  Africa-Home Office  \\\n",
       "Order Date                                                                     \n",
       "2011-01                        265.539           520.026             391.515   \n",
       "2011-02                       -201.888           -31.689             825.606   \n",
       "2011-03                        919.074           244.437              83.430   \n",
       "2011-04                        381.315           941.751             417.618   \n",
       "2011-05                        -39.981           490.650              39.180   \n",
       "\n",
       "combinedMarketSegment  Canada-Consumer  Canada-Corporate  Canada-Home Office  \\\n",
       "Order Date                                                                     \n",
       "2011-01                         447.33             12.57                 NaN   \n",
       "2011-02                          26.43              9.24               87.99   \n",
       "2011-03                          82.47               NaN               84.03   \n",
       "2011-04                          55.08              6.51                 NaN   \n",
       "2011-05                           0.87               NaN                 NaN   \n",
       "\n",
       "combinedMarketSegment  EMEA-Consumer  ...  EMEA-Home Office  EU-Consumer  \\\n",
       "Order Date                            ...                                  \n",
       "2011-01                    -2952.594  ...           392.526    2259.8670   \n",
       "2011-02                      464.160  ...           368.070    -783.9945   \n",
       "2011-03                      706.380  ...           -15.570    1273.7100   \n",
       "2011-04                      121.353  ...          -456.510    2980.0065   \n",
       "2011-05                      172.554  ...           -33.591     673.0080   \n",
       "\n",
       "combinedMarketSegment  EU-Corporate  EU-Home Office  LATAM-Consumer  \\\n",
       "Order Date                                                            \n",
       "2011-01                    841.3875        2534.568       540.44312   \n",
       "2011-02                   2234.4060         162.255      1227.86616   \n",
       "2011-03                   2206.5960         269.745      2427.39612   \n",
       "2011-04                    981.1470         130.371      1368.82948   \n",
       "2011-05                   1719.0600         443.310      1749.39200   \n",
       "\n",
       "combinedMarketSegment  LATAM-Corporate  LATAM-Home Office  US-Consumer  \\\n",
       "Order Date                                                               \n",
       "2011-01                     1021.05924          -26.59744    2465.8368   \n",
       "2011-02                      814.03020         -356.80440    1853.5541   \n",
       "2011-03                      178.66400          769.88400     204.2007   \n",
       "2011-04                      872.64068         -554.22952    1434.8636   \n",
       "2011-05                      134.87252         -397.95600     833.9433   \n",
       "\n",
       "combinedMarketSegment  US-Corporate  US-Home Office  \n",
       "Order Date                                           \n",
       "2011-01                    643.3689       1233.9329  \n",
       "2011-02                    421.9256        553.9467  \n",
       "2011-03                    127.4696       -268.9314  \n",
       "2011-04                    494.7315       2723.4358  \n",
       "2011-05                   2912.7976        145.7781  \n",
       "\n",
       "[5 rows x 21 columns]"
      ]
     },
     "execution_count": 72,
     "metadata": {},
     "output_type": "execute_result"
    }
   ],
   "source": [
    "df_agg.head()"
   ]
  },
  {
   "cell_type": "code",
   "execution_count": 73,
   "metadata": {},
   "outputs": [
    {
     "data": {
      "text/plain": [
       "(48, 21)"
      ]
     },
     "execution_count": 73,
     "metadata": {},
     "output_type": "execute_result"
    }
   ],
   "source": [
    "df_agg.shape"
   ]
  },
  {
   "cell_type": "code",
   "execution_count": 74,
   "metadata": {},
   "outputs": [],
   "source": [
    "# Train - test Split\n",
    "train_len = 42\n",
    "train_df = df_agg[0 : train_len]\n",
    "test_df = df_agg[train_len :]"
   ]
  },
  {
   "cell_type": "code",
   "execution_count": 75,
   "metadata": {},
   "outputs": [
    {
     "data": {
      "text/plain": [
       "(42, 21)"
      ]
     },
     "execution_count": 75,
     "metadata": {},
     "output_type": "execute_result"
    }
   ],
   "source": [
    "train_df.shape"
   ]
  },
  {
   "cell_type": "code",
   "execution_count": 76,
   "metadata": {},
   "outputs": [
    {
     "data": {
      "text/plain": [
       "(6, 21)"
      ]
     },
     "execution_count": 76,
     "metadata": {},
     "output_type": "execute_result"
    }
   ],
   "source": [
    "test_df.shape\n",
    "# combined is 48"
   ]
  },
  {
   "cell_type": "code",
   "execution_count": null,
   "metadata": {},
   "outputs": [],
   "source": []
  },
  {
   "cell_type": "code",
   "execution_count": 78,
   "metadata": {},
   "outputs": [
    {
     "name": "stderr",
     "output_type": "stream",
     "text": [
      "c:\\sahil\\code\\upgrad\\assignment\\Global_Mart\\env\\Lib\\site-packages\\numpy\\core\\fromnumeric.py:3462: FutureWarning: In a future version, DataFrame.mean(axis=None) will return a scalar mean over the entire DataFrame. To retain the old behavior, use 'frame.mean(axis=0)' or just 'frame.mean()'\n",
      "  return mean(axis=axis, dtype=dtype, out=out, **kwargs)\n"
     ]
    },
    {
     "data": {
      "text/html": [
       "<div>\n",
       "<style scoped>\n",
       "    .dataframe tbody tr th:only-of-type {\n",
       "        vertical-align: middle;\n",
       "    }\n",
       "\n",
       "    .dataframe tbody tr th {\n",
       "        vertical-align: top;\n",
       "    }\n",
       "\n",
       "    .dataframe thead th {\n",
       "        text-align: right;\n",
       "    }\n",
       "</style>\n",
       "<table border=\"1\" class=\"dataframe\">\n",
       "  <thead>\n",
       "    <tr style=\"text-align: right;\">\n",
       "      <th></th>\n",
       "      <th>0</th>\n",
       "      <th>std</th>\n",
       "      <th>covariance</th>\n",
       "    </tr>\n",
       "    <tr>\n",
       "      <th>combinedMarketSegment</th>\n",
       "      <th></th>\n",
       "      <th></th>\n",
       "      <th></th>\n",
       "    </tr>\n",
       "  </thead>\n",
       "  <tbody>\n",
       "    <tr>\n",
       "      <th>APAC-Consumer</th>\n",
       "      <td>4400.894243</td>\n",
       "      <td>2300.457687</td>\n",
       "      <td>0.522725</td>\n",
       "    </tr>\n",
       "    <tr>\n",
       "      <th>APAC-Corporate</th>\n",
       "      <td>2574.919807</td>\n",
       "      <td>1364.837734</td>\n",
       "      <td>0.530051</td>\n",
       "    </tr>\n",
       "    <tr>\n",
       "      <th>APAC-Home Office</th>\n",
       "      <td>1511.088314</td>\n",
       "      <td>1523.508658</td>\n",
       "      <td>1.008219</td>\n",
       "    </tr>\n",
       "    <tr>\n",
       "      <th>Africa-Consumer</th>\n",
       "      <td>957.707000</td>\n",
       "      <td>1254.932072</td>\n",
       "      <td>1.310351</td>\n",
       "    </tr>\n",
       "    <tr>\n",
       "      <th>Africa-Corporate</th>\n",
       "      <td>412.617571</td>\n",
       "      <td>780.566850</td>\n",
       "      <td>1.891744</td>\n",
       "    </tr>\n",
       "    <tr>\n",
       "      <th>Africa-Home Office</th>\n",
       "      <td>377.221071</td>\n",
       "      <td>759.322203</td>\n",
       "      <td>2.012937</td>\n",
       "    </tr>\n",
       "    <tr>\n",
       "      <th>Canada-Consumer</th>\n",
       "      <td>225.987632</td>\n",
       "      <td>282.555788</td>\n",
       "      <td>1.250315</td>\n",
       "    </tr>\n",
       "    <tr>\n",
       "      <th>Canada-Corporate</th>\n",
       "      <td>90.980294</td>\n",
       "      <td>162.493114</td>\n",
       "      <td>1.786025</td>\n",
       "    </tr>\n",
       "    <tr>\n",
       "      <th>Canada-Home Office</th>\n",
       "      <td>118.003750</td>\n",
       "      <td>279.632866</td>\n",
       "      <td>2.369695</td>\n",
       "    </tr>\n",
       "    <tr>\n",
       "      <th>EMEA-Consumer</th>\n",
       "      <td>423.960286</td>\n",
       "      <td>1124.552711</td>\n",
       "      <td>2.652495</td>\n",
       "    </tr>\n",
       "    <tr>\n",
       "      <th>EMEA-Corporate</th>\n",
       "      <td>182.642643</td>\n",
       "      <td>1160.698430</td>\n",
       "      <td>6.355024</td>\n",
       "    </tr>\n",
       "    <tr>\n",
       "      <th>EMEA-Home Office</th>\n",
       "      <td>84.231366</td>\n",
       "      <td>651.283095</td>\n",
       "      <td>7.732073</td>\n",
       "    </tr>\n",
       "    <tr>\n",
       "      <th>EU-Consumer</th>\n",
       "      <td>3699.977143</td>\n",
       "      <td>2202.282289</td>\n",
       "      <td>0.595215</td>\n",
       "    </tr>\n",
       "    <tr>\n",
       "      <th>EU-Corporate</th>\n",
       "      <td>2216.299429</td>\n",
       "      <td>1600.336696</td>\n",
       "      <td>0.722076</td>\n",
       "    </tr>\n",
       "    <tr>\n",
       "      <th>EU-Home Office</th>\n",
       "      <td>1224.456536</td>\n",
       "      <td>1148.627937</td>\n",
       "      <td>0.938072</td>\n",
       "    </tr>\n",
       "    <tr>\n",
       "      <th>LATAM-Consumer</th>\n",
       "      <td>2295.555697</td>\n",
       "      <td>1569.632686</td>\n",
       "      <td>0.683770</td>\n",
       "    </tr>\n",
       "    <tr>\n",
       "      <th>LATAM-Corporate</th>\n",
       "      <td>1122.633016</td>\n",
       "      <td>990.360880</td>\n",
       "      <td>0.882177</td>\n",
       "    </tr>\n",
       "    <tr>\n",
       "      <th>LATAM-Home Office</th>\n",
       "      <td>818.398941</td>\n",
       "      <td>957.275713</td>\n",
       "      <td>1.169693</td>\n",
       "    </tr>\n",
       "    <tr>\n",
       "      <th>US-Consumer</th>\n",
       "      <td>2686.740912</td>\n",
       "      <td>2715.031412</td>\n",
       "      <td>1.010530</td>\n",
       "    </tr>\n",
       "    <tr>\n",
       "      <th>US-Corporate</th>\n",
       "      <td>1754.199083</td>\n",
       "      <td>1880.200775</td>\n",
       "      <td>1.071829</td>\n",
       "    </tr>\n",
       "    <tr>\n",
       "      <th>US-Home Office</th>\n",
       "      <td>1132.065762</td>\n",
       "      <td>1272.476439</td>\n",
       "      <td>1.124030</td>\n",
       "    </tr>\n",
       "  </tbody>\n",
       "</table>\n",
       "</div>"
      ],
      "text/plain": [
       "                                 0          std  covariance\n",
       "combinedMarketSegment                                      \n",
       "APAC-Consumer          4400.894243  2300.457687    0.522725\n",
       "APAC-Corporate         2574.919807  1364.837734    0.530051\n",
       "APAC-Home Office       1511.088314  1523.508658    1.008219\n",
       "Africa-Consumer         957.707000  1254.932072    1.310351\n",
       "Africa-Corporate        412.617571   780.566850    1.891744\n",
       "Africa-Home Office      377.221071   759.322203    2.012937\n",
       "Canada-Consumer         225.987632   282.555788    1.250315\n",
       "Canada-Corporate         90.980294   162.493114    1.786025\n",
       "Canada-Home Office      118.003750   279.632866    2.369695\n",
       "EMEA-Consumer           423.960286  1124.552711    2.652495\n",
       "EMEA-Corporate          182.642643  1160.698430    6.355024\n",
       "EMEA-Home Office         84.231366   651.283095    7.732073\n",
       "EU-Consumer            3699.977143  2202.282289    0.595215\n",
       "EU-Corporate           2216.299429  1600.336696    0.722076\n",
       "EU-Home Office         1224.456536  1148.627937    0.938072\n",
       "LATAM-Consumer         2295.555697  1569.632686    0.683770\n",
       "LATAM-Corporate        1122.633016   990.360880    0.882177\n",
       "LATAM-Home Office       818.398941   957.275713    1.169693\n",
       "US-Consumer            2686.740912  2715.031412    1.010530\n",
       "US-Corporate           1754.199083  1880.200775    1.071829\n",
       "US-Home Office         1132.065762  1272.476439    1.124030"
      ]
     },
     "execution_count": 78,
     "metadata": {},
     "output_type": "execute_result"
    }
   ],
   "source": [
    "# Finding our the covariance\n",
    "mean = np.mean(train_df)\n",
    "std = np.std(train_df)\n",
    "convariance_df =pd.DataFrame(mean)\n",
    "convariance_df['std'] = std\n",
    "convariance_df['covariance'] = std / mean\n",
    "convariance_df.sort_values(by='covariance',ascending=True)\n",
    "convariance_df"
   ]
  },
  {
   "attachments": {},
   "cell_type": "markdown",
   "metadata": {},
   "source": [
    "### Inference\n",
    "#### APAC - Consumer has the lowest covariance 0.522725\n",
    "hence we should focus on this sector as we want the least variance in our profits"
   ]
  },
  {
   "cell_type": "code",
   "execution_count": null,
   "metadata": {},
   "outputs": [],
   "source": []
  }
 ],
 "metadata": {
  "kernelspec": {
   "display_name": "env",
   "language": "python",
   "name": "python3"
  },
  "language_info": {
   "codemirror_mode": {
    "name": "ipython",
    "version": 3
   },
   "file_extension": ".py",
   "mimetype": "text/x-python",
   "name": "python",
   "nbconvert_exporter": "python",
   "pygments_lexer": "ipython3",
   "version": "3.11.1"
  },
  "orig_nbformat": 4,
  "vscode": {
   "interpreter": {
    "hash": "61b47d25ea27e923d9c3f68b074245ab8f95630ee6071734e54d330ae3c9eca3"
   }
  }
 },
 "nbformat": 4,
 "nbformat_minor": 2
}
