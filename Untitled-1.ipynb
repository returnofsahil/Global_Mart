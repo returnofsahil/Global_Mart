{
 "cells": [
  {
   "cell_type": "code",
   "execution_count": null,
   "metadata": {},
   "outputs": [],
   "source": []
  }
 ],
 "metadata": {
  "kernelspec": {
   "display_name": "env",
   "language": "python",
   "name": "python3"
  },
  "language_info": {
   "name": "python",
   "version": "3.11.1"
  },
  "orig_nbformat": 4,
  "vscode": {
   "interpreter": {
    "hash": "61b47d25ea27e923d9c3f68b074245ab8f95630ee6071734e54d330ae3c9eca3"
   }
  }
 },
 "nbformat": 4,
 "nbformat_minor": 2
}
